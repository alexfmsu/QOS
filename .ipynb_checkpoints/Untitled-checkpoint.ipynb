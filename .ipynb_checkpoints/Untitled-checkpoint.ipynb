{
 "cells": [
  {
   "cell_type": "code",
   "execution_count": 1,
   "metadata": {},
   "outputs": [],
   "source": [
    "from QOS.Cavity.CavityChain import *\n",
    "from QOS.QuantumSystem import QuantumSystem\n",
    "from QOS.State import State"
   ]
  },
  {
   "cell_type": "code",
   "execution_count": 2,
   "metadata": {},
   "outputs": [
    {
     "name": "stdout",
     "output_type": "stream",
     "text": [
      "{\n",
      "    \u001b[94m\"Atom_0\"\u001b[39;49;00m: {\n",
      "        \u001b[94m\"n_levels\"\u001b[39;49;00m: \u001b[34m2\u001b[39;49;00m,\n",
      "        \u001b[94m\"wa\"\u001b[39;49;00m: {\n",
      "            \u001b[94m\"1\"\u001b[39;49;00m: \u001b[33m\"6.729 GHz\"\u001b[39;49;00m\n",
      "        },\n",
      "        \u001b[94m\"g\"\u001b[39;49;00m: {\n",
      "            \u001b[94m\"0<->1\"\u001b[39;49;00m: \u001b[33m\"67.29 MHz\"\u001b[39;49;00m\n",
      "        },\n",
      "        \u001b[94m\"lvl\"\u001b[39;49;00m: \u001b[34m0\u001b[39;49;00m\n",
      "    }\n",
      "}\n",
      "\n"
     ]
    }
   ],
   "source": [
    "a0 = Atom(\n",
    "    wa={'1': wc},\n",
    "    g={'0<->1': wc * 1e-2},\n",
    ")\n",
    "a1 = Atom(\n",
    "    wa={'1': 1},\n",
    "    g={'0<->1': 2},\n",
    ")\n",
    "\n",
    "a0.info()"
   ]
  },
  {
   "cell_type": "code",
   "execution_count": 3,
   "metadata": {},
   "outputs": [],
   "source": [
    "# cavity 0\n",
    "\n",
    "cv0 = Cavity(wc={'0<->1': wc}, atoms=[])"
   ]
  },
  {
   "cell_type": "code",
   "execution_count": 4,
   "metadata": {},
   "outputs": [],
   "source": [
    "# cavity 1\n",
    "cv1 = Cavity(wc={'0<->1': wc}, atoms=[a0])\n",
    "\n",
    "cv1.add_photon(type='0<->1', count=2)"
   ]
  },
  {
   "cell_type": "code",
   "execution_count": 5,
   "metadata": {},
   "outputs": [],
   "source": [
    "cv2 = Cavity(wc={'0<->1': wc}, atoms=[a1])"
   ]
  },
  {
   "cell_type": "code",
   "execution_count": 6,
   "metadata": {},
   "outputs": [
    {
     "name": "stdout",
     "output_type": "stream",
     "text": [
      "{\n",
      "    \u001b[94m\"CavityChain:\"\u001b[39;49;00m: {\n",
      "        \u001b[94m\"Capacity\"\u001b[39;49;00m: {\n",
      "            \u001b[94m\"0<->1\"\u001b[39;49;00m: \u001b[34m3\u001b[39;49;00m\n",
      "        },\n",
      "        \u001b[94m\"Cavity_1\"\u001b[39;49;00m: {\n",
      "            \u001b[94m\"wc\"\u001b[39;49;00m: {\n",
      "                \u001b[94m\"0<->1\"\u001b[39;49;00m: \u001b[33m\"6.729 GHz\"\u001b[39;49;00m\n",
      "            },\n",
      "            \u001b[94m\"n_photons\"\u001b[39;49;00m: {\n",
      "                \u001b[94m\"0<->1\"\u001b[39;49;00m: \u001b[34m2\u001b[39;49;00m\n",
      "            },\n",
      "            \u001b[94m\"atoms\"\u001b[39;49;00m: [\n",
      "                {\n",
      "                    \u001b[94m\"n_levels\"\u001b[39;49;00m: \u001b[34m2\u001b[39;49;00m,\n",
      "                    \u001b[94m\"wa\"\u001b[39;49;00m: {\n",
      "                        \u001b[94m\"1\"\u001b[39;49;00m: \u001b[33m\"6.729 GHz\"\u001b[39;49;00m\n",
      "                    },\n",
      "                    \u001b[94m\"g\"\u001b[39;49;00m: {\n",
      "                        \u001b[94m\"0<->1\"\u001b[39;49;00m: \u001b[33m\"67.29 MHz\"\u001b[39;49;00m\n",
      "                    },\n",
      "                    \u001b[94m\"lvl\"\u001b[39;49;00m: \u001b[34m0\u001b[39;49;00m\n",
      "                }\n",
      "            ]\n",
      "        },\n",
      "        \u001b[94m\"Cavity_0\"\u001b[39;49;00m: {\n",
      "            \u001b[94m\"wc\"\u001b[39;49;00m: {\n",
      "                \u001b[94m\"0<->1\"\u001b[39;49;00m: \u001b[33m\"6.729 GHz\"\u001b[39;49;00m\n",
      "            },\n",
      "            \u001b[94m\"n_photons\"\u001b[39;49;00m: {\n",
      "                \u001b[94m\"0<->1\"\u001b[39;49;00m: \u001b[34m0\u001b[39;49;00m\n",
      "            }\n",
      "        },\n",
      "        \u001b[94m\"Cavity_2\"\u001b[39;49;00m: {\n",
      "            \u001b[94m\"wc\"\u001b[39;49;00m: {\n",
      "                \u001b[94m\"0<->1\"\u001b[39;49;00m: \u001b[33m\"6.729 GHz\"\u001b[39;49;00m\n",
      "            },\n",
      "            \u001b[94m\"n_photons\"\u001b[39;49;00m: {\n",
      "                \u001b[94m\"0<->1\"\u001b[39;49;00m: \u001b[34m0\u001b[39;49;00m\n",
      "            },\n",
      "            \u001b[94m\"atoms\"\u001b[39;49;00m: [\n",
      "                {\n",
      "                    \u001b[94m\"n_levels\"\u001b[39;49;00m: \u001b[34m2\u001b[39;49;00m,\n",
      "                    \u001b[94m\"wa\"\u001b[39;49;00m: {\n",
      "                        \u001b[94m\"1\"\u001b[39;49;00m: \u001b[33m\"1 Hz\"\u001b[39;49;00m\n",
      "                    },\n",
      "                    \u001b[94m\"g\"\u001b[39;49;00m: {\n",
      "                        \u001b[94m\"0<->1\"\u001b[39;49;00m: \u001b[33m\"2 Hz\"\u001b[39;49;00m\n",
      "                    },\n",
      "                    \u001b[94m\"lvl\"\u001b[39;49;00m: \u001b[34m0\u001b[39;49;00m\n",
      "                }\n",
      "            ]\n",
      "        },\n",
      "        \u001b[94m\"Connections\"\u001b[39;49;00m: {\n",
      "            \u001b[94m\"Cavity_0<->Cavity_1\"\u001b[39;49;00m: \u001b[33m\"67.29 MHz\"\u001b[39;49;00m,\n",
      "            \u001b[94m\"Cavity_1<->Cavity_2\"\u001b[39;49;00m: \u001b[33m\"67.29 MHz\"\u001b[39;49;00m\n",
      "        }\n",
      "    }\n",
      "}\n",
      "\n"
     ]
    }
   ],
   "source": [
    "cv_chain = CavityChain(cavities=[cv1, cv0, cv2], capacity={'0<->1': 3})\n",
    "\n",
    "cv_chain.connect(0, 1, wc * 1e-2, ph_type='0<->1')\n",
    "cv_chain.connect(1, 2, wc * 1e-2, ph_type='0<->1')\n",
    "\n",
    "cv_chain.info()"
   ]
  },
  {
   "cell_type": "code",
   "execution_count": 7,
   "metadata": {},
   "outputs": [
    {
     "name": "stdout",
     "output_type": "stream",
     "text": [
      "\u001b[32mBasis:\u001b[0m\n",
      "0: (0₀₁, [0]) ⊗  (0₀₁, []) ⊗  (2₀₁, [0])\n",
      "1: (0₀₁, [0]) ⊗  (1₀₁, []) ⊗  (1₀₁, [0])\n",
      "2: (0₀₁, [0]) ⊗  (2₀₁, []) ⊗  (0₀₁, [0])\n",
      "3: (0₀₁, [1]) ⊗  (0₀₁, []) ⊗  (1₀₁, [0])\n",
      "4: (0₀₁, [1]) ⊗  (1₀₁, []) ⊗  (0₀₁, [0])\n",
      "5: (1₀₁, [0]) ⊗  (0₀₁, []) ⊗  (1₀₁, [0])\n",
      "6: (1₀₁, [0]) ⊗  (1₀₁, []) ⊗  (0₀₁, [0])\n",
      "7: (1₀₁, [1]) ⊗  (0₀₁, []) ⊗  (0₀₁, [0])\n",
      "8: (2₀₁, [0]) ⊗  (0₀₁, []) ⊗  (0₀₁, [0])\n",
      "\n"
     ]
    }
   ],
   "source": [
    "qs = QuantumSystem(cavity_chain=cv_chain)\n",
    "\n",
    "qs.print_basis()"
   ]
  },
  {
   "cell_type": "code",
   "execution_count": 8,
   "metadata": {},
   "outputs": [
    {
     "name": "stdout",
     "output_type": "stream",
     "text": [
      "13.458 GHz\t0.0 Hz\t0.0 Hz\t0.0 Hz\t0.0 Hz\t0.0 Hz\t1.414 Hz\t0.0 Hz\t1.414 Hz\t\n",
      "0.0 Hz\t13.458 GHz\t0.0 Hz\t0.0 Hz\t0.0 Hz\t0.0 Hz\t1.414 Hz\t0.0 Hz\t1.414 Hz\t\n",
      "0.0 Hz\t0.0 Hz\t13.458 GHz\t0.0 Hz\t0.0 Hz\t0.0 Hz\t1.414 Hz\t0.0 Hz\t1.414 Hz\t\n",
      "0.0 Hz\t0.0 Hz\t0.0 Hz\t13.458 GHz\t0.0 Hz\t0.0 Hz\t1.414 Hz\t1.414 Hz\t67.29 MHz\t\n",
      "0.0 Hz\t0.0 Hz\t0.0 Hz\t0.0 Hz\t13.458 GHz\t0.0 Hz\t1.414 Hz\t1.414 Hz\t67.29 MHz\t\n",
      "0.0 Hz\t0.0 Hz\t1.414 Hz\t0.0 Hz\t0.0 Hz\t13.458 GHz\t0.0 Hz\t0.0 Hz\t1.414 Hz\t\n",
      "0.0 Hz\t0.0 Hz\t1.414 Hz\t0.0 Hz\t0.0 Hz\t0.0 Hz\t13.458 GHz\t0.0 Hz\t1.414 Hz\t\n",
      "0.0 Hz\t0.0 Hz\t0.0 Hz\t0.0 Hz\t1.414 Hz\t0.0 Hz\t1.414 Hz\t13.458 GHz\t67.29 MHz\t\n",
      "0.0 Hz\t0.0 Hz\t0.0 Hz\t0.0 Hz\t0.0 Hz\t0.0 Hz\t1.414 Hz\t67.29 MHz\t13.458 GHz\t\n"
     ]
    }
   ],
   "source": [
    "H = qs.H()  # Hamiltonian\n",
    "\n",
    "H.print(\"dense\")"
   ]
  },
  {
   "cell_type": "code",
   "execution_count": null,
   "metadata": {},
   "outputs": [],
   "source": []
  }
 ],
 "metadata": {
  "kernelspec": {
   "display_name": "Python 3",
   "language": "python",
   "name": "python3"
  },
  "language_info": {
   "codemirror_mode": {
    "name": "ipython",
    "version": 3
   },
   "file_extension": ".py",
   "mimetype": "text/x-python",
   "name": "python",
   "nbconvert_exporter": "python",
   "pygments_lexer": "ipython3",
   "version": "3.7.5"
  }
 },
 "nbformat": 4,
 "nbformat_minor": 2
}
