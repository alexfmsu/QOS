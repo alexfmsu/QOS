{
 "cells": [
  {
   "cell_type": "code",
   "execution_count": 1,
   "metadata": {},
   "outputs": [],
   "source": [
    "from QOS.Cavity.CavityChain import *\n",
    "from QOS.QuantumSystem import QuantumSystem\n",
    "from QOS.State import State"
   ]
  },
  {
   "cell_type": "code",
   "execution_count": 2,
   "metadata": {},
   "outputs": [
    {
     "name": "stdout",
     "output_type": "stream",
     "text": [
      "{\n",
      "    \u001b[94m\"Atom_0\"\u001b[39;49;00m: {\n",
      "        \u001b[94m\"n_levels\"\u001b[39;49;00m: \u001b[34m2\u001b[39;49;00m,\n",
      "        \u001b[94m\"wa\"\u001b[39;49;00m: {\n",
      "            \u001b[94m\"1\"\u001b[39;49;00m: \u001b[33m\"6.729 GHz\"\u001b[39;49;00m\n",
      "        },\n",
      "        \u001b[94m\"g\"\u001b[39;49;00m: {\n",
      "            \u001b[94m\"0<->1\"\u001b[39;49;00m: \u001b[33m\"67.29 MHz\"\u001b[39;49;00m\n",
      "        },\n",
      "        \u001b[94m\"lvl\"\u001b[39;49;00m: \u001b[34m0\u001b[39;49;00m\n",
      "    }\n",
      "}\n",
      "\n"
     ]
    }
   ],
   "source": [
    "a0 = Atom(\n",
    "    wa={'1': wc},\n",
    "    g={'0<->1': wc * 1e-2},\n",
    ")\n",
    "a1 = Atom(\n",
    "    wa={'1': wc},\n",
    "    g={'0<->1': wc * 1e-2},\n",
    ")\n",
    "a2 = Atom(\n",
    "    wa={'1': wc},\n",
    "    g={'0<->1': wc * 1e-2},\n",
    ")\n",
    "\n",
    "a0.info()"
   ]
  },
  {
   "cell_type": "code",
   "execution_count": 3,
   "metadata": {},
   "outputs": [],
   "source": [
    "cv = Cavity(wc={'0<->1': wc}, atoms=[a0, a1, a2])\n",
    "\n",
    "cv.add_photon(type='0<->1', count=3)"
   ]
  },
  {
   "cell_type": "code",
   "execution_count": 4,
   "metadata": {},
   "outputs": [
    {
     "name": "stdout",
     "output_type": "stream",
     "text": [
      "{\n",
      "    \u001b[94m\"CavityChain:\"\u001b[39;49;00m: {\n",
      "        \u001b[94m\"Capacity\"\u001b[39;49;00m: {\n",
      "            \u001b[94m\"0<->1\"\u001b[39;49;00m: \u001b[34m3\u001b[39;49;00m\n",
      "        },\n",
      "        \u001b[94m\"Cavity_0\"\u001b[39;49;00m: {\n",
      "            \u001b[94m\"wc\"\u001b[39;49;00m: {\n",
      "                \u001b[94m\"0<->1\"\u001b[39;49;00m: \u001b[33m\"6.729 GHz\"\u001b[39;49;00m\n",
      "            },\n",
      "            \u001b[94m\"n_photons\"\u001b[39;49;00m: {\n",
      "                \u001b[94m\"0<->1\"\u001b[39;49;00m: \u001b[34m3\u001b[39;49;00m\n",
      "            },\n",
      "            \u001b[94m\"atoms\"\u001b[39;49;00m: [\n",
      "                {\n",
      "                    \u001b[94m\"n_levels\"\u001b[39;49;00m: \u001b[34m2\u001b[39;49;00m,\n",
      "                    \u001b[94m\"wa\"\u001b[39;49;00m: {\n",
      "                        \u001b[94m\"1\"\u001b[39;49;00m: \u001b[33m\"6.729 GHz\"\u001b[39;49;00m\n",
      "                    },\n",
      "                    \u001b[94m\"g\"\u001b[39;49;00m: {\n",
      "                        \u001b[94m\"0<->1\"\u001b[39;49;00m: \u001b[33m\"67.29 MHz\"\u001b[39;49;00m\n",
      "                    },\n",
      "                    \u001b[94m\"lvl\"\u001b[39;49;00m: \u001b[34m0\u001b[39;49;00m\n",
      "                },\n",
      "                {\n",
      "                    \u001b[94m\"n_levels\"\u001b[39;49;00m: \u001b[34m2\u001b[39;49;00m,\n",
      "                    \u001b[94m\"wa\"\u001b[39;49;00m: {\n",
      "                        \u001b[94m\"1\"\u001b[39;49;00m: \u001b[33m\"6.729 GHz\"\u001b[39;49;00m\n",
      "                    },\n",
      "                    \u001b[94m\"g\"\u001b[39;49;00m: {\n",
      "                        \u001b[94m\"0<->1\"\u001b[39;49;00m: \u001b[33m\"67.29 MHz\"\u001b[39;49;00m\n",
      "                    },\n",
      "                    \u001b[94m\"lvl\"\u001b[39;49;00m: \u001b[34m0\u001b[39;49;00m\n",
      "                },\n",
      "                {\n",
      "                    \u001b[94m\"n_levels\"\u001b[39;49;00m: \u001b[34m2\u001b[39;49;00m,\n",
      "                    \u001b[94m\"wa\"\u001b[39;49;00m: {\n",
      "                        \u001b[94m\"1\"\u001b[39;49;00m: \u001b[33m\"6.729 GHz\"\u001b[39;49;00m\n",
      "                    },\n",
      "                    \u001b[94m\"g\"\u001b[39;49;00m: {\n",
      "                        \u001b[94m\"0<->1\"\u001b[39;49;00m: \u001b[33m\"67.29 MHz\"\u001b[39;49;00m\n",
      "                    },\n",
      "                    \u001b[94m\"lvl\"\u001b[39;49;00m: \u001b[34m0\u001b[39;49;00m\n",
      "                }\n",
      "            ]\n",
      "        }\n",
      "    }\n",
      "}\n",
      "\n"
     ]
    }
   ],
   "source": [
    "cv_chain = CavityChain(cavities=[cv], capacity={'0<->1': 3})\n",
    "cv_chain.info()"
   ]
  },
  {
   "cell_type": "code",
   "execution_count": 5,
   "metadata": {},
   "outputs": [
    {
     "name": "stdout",
     "output_type": "stream",
     "text": [
      "\u001b[32mBasis:\u001b[0m\n",
      "0: (2₀₁, [0, 0, 1])\n",
      "1: (2₀₁, [0, 1, 0])\n",
      "2: (2₀₁, [1, 0, 0])\n",
      "3: (3₀₁, [0, 0, 0])\n",
      "\n",
      "20.187 GHz\t67.29 MHz\t67.29 MHz\t67.29 MHz\t\n",
      "0.0 Hz\t20.187 GHz\t67.29 MHz\t67.29 MHz\t\n",
      "0.0 Hz\t0.0 Hz\t20.187 GHz\t67.29 MHz\t\n",
      "67.29 MHz\t67.29 MHz\t67.29 MHz\t20.187 GHz\t\n"
     ]
    }
   ],
   "source": [
    "qs = QuantumSystem(cavity_chain=cv_chain)\n",
    "qs.print_basis()\n",
    "\n",
    "H = qs.H()\n",
    "\n",
    "H.print()"
   ]
  },
  {
   "cell_type": "code",
   "execution_count": 6,
   "metadata": {},
   "outputs": [
    {
     "name": "stdout",
     "output_type": "stream",
     "text": [
      "(3₀₁, [0, 0, 0])\n",
      "\u001b[32mAmplitudes:\u001b[0m\n",
      "|2〉|001〉: 0j\n",
      "|2〉|010〉: 0j\n",
      "|2〉|100〉: 0j\n",
      "|3〉|000〉: 0.707\n",
      "\n",
      "\u001b[32mAmplitudes:\u001b[0m\n",
      "[0j, 0j, 0j, 0.7071067811865475]\n",
      "\n"
     ]
    }
   ],
   "source": [
    "init_state = qs.init_state()\n",
    "\n",
    "init_state *= 1 / sqrt(2)\n",
    "init_state.print()\n",
    "\n",
    "init_state.print_amplitudes(mode='braket')\n",
    "init_state.print_amplitudes(mode='array')"
   ]
  }
 ],
 "metadata": {
  "kernelspec": {
   "display_name": "Python 3",
   "language": "python",
   "name": "python3"
  },
  "language_info": {
   "codemirror_mode": {
    "name": "ipython",
    "version": 3
   },
   "file_extension": ".py",
   "mimetype": "text/x-python",
   "name": "python",
   "nbconvert_exporter": "python",
   "pygments_lexer": "ipython3",
   "version": "3.7.5"
  }
 },
 "nbformat": 4,
 "nbformat_minor": 2
}
